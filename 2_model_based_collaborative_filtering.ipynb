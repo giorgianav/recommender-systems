{
  "nbformat": 4,
  "nbformat_minor": 0,
  "metadata": {
    "colab": {
      "name": "2_model_based_collaborative_filtering.ipynb",
      "version": "0.3.2",
      "provenance": [],
      "private_outputs": true,
      "collapsed_sections": []
    },
    "kernelspec": {
      "name": "python3",
      "display_name": "Python 3"
    },
    "accelerator": "GPU"
  },
  "cells": [
    {
      "cell_type": "markdown",
      "metadata": {
        "id": "view-in-github",
        "colab_type": "text"
      },
      "source": [
        "[View in Colaboratory](https://colab.research.google.com/github/ruxandraburtica/recommender-systems/blob/master/2_model_based_collaborative_filtering.ipynb)"
      ]
    },
    {
      "metadata": {
        "id": "avRbNXr3L3k4",
        "colab_type": "text"
      },
      "cell_type": "markdown",
      "source": [
        "# 2. Model-based collaborative filtering\n"
      ]
    },
    {
      "metadata": {
        "id": "yOGMZHMzLzzb",
        "colab_type": "toc"
      },
      "cell_type": "markdown",
      "source": [
        ">[Model-based collaborative filtering](#scrollTo=avRbNXr3L3k4)\n",
        "\n",
        ">[Model-based collaborative filtering](#scrollTo=4amzxC539k88)\n",
        "\n",
        ">>>[Types of models](#scrollTo=4amzxC539k88)\n",
        "\n",
        ">[Using SVD:](#scrollTo=LmyTNkPNT4Uw)\n",
        "\n",
        ">>>[The mathematics:](#scrollTo=LmyTNkPNT4Uw)\n",
        "\n",
        ">>>[What are latent factors?](#scrollTo=LmyTNkPNT4Uw)\n",
        "\n",
        ">>[Hands-on](#scrollTo=9Zpoz98F81UV)\n",
        "\n",
        ">>>[Get additional packages](#scrollTo=YUMd8nTW-sjD)\n",
        "\n",
        ">>>[Import packages needed throughout the notebook](#scrollTo=Y3-_67QY9OoU)\n",
        "\n",
        ">>>[Get the data](#scrollTo=XHKSiVyO-wvq)\n",
        "\n",
        ">>>[Plug-in SVD](#scrollTo=d3ozFWucHhXc)\n",
        "\n",
        ">>[Pick 3](#scrollTo=bfhR7pdTWFmy)\n",
        "\n",
        ">>[Extra step:](#scrollTo=Kx7Xav0PWejb)\n",
        "\n",
        ">>>[Try out multiple other algorithms](#scrollTo=e8FGobf1HvVr)\n",
        "\n",
        ">>>[Note for the trainers](#scrollTo=e8FGobf1HvVr)\n",
        "\n"
      ]
    },
    {
      "metadata": {
        "id": "4amzxC539k88",
        "colab_type": "text"
      },
      "cell_type": "markdown",
      "source": [
        "\n",
        "# Model-based collaborative filtering\n",
        "\n",
        "Model-based collaborative filtering methods first create a model of the user, and then build the predictions.\n",
        "\n",
        "### Types of models\n",
        "- Probabilistic\n",
        "- Classification\n",
        "- Regression\n",
        "- Clustering\n",
        "- Rule-based\n",
        "\n",
        "\n",
        "The netflix prize was a model-baed collaborative filtering.\n",
        "\n",
        "Top 2 algorithms in the Netflix prize:\n",
        "- SVD (matrix factorization) -- RMSE 0.8914\n",
        "- RBM (Restricted Boltzman Machines - neural network) -- RMSE 0.8990\n",
        "- Ensemble of the two -- RMSE 0.88"
      ]
    },
    {
      "metadata": {
        "id": "LmyTNkPNT4Uw",
        "colab_type": "text"
      },
      "cell_type": "markdown",
      "source": [
        "# Using SVD:\n",
        "\n",
        "\n",
        "### The mathematics:\n",
        "\n",
        "The basic idea is that the matrix I start off with, the $X$ matrix, which is very sparse and had the users and the items, I want to colapse it into something that has less dimensions and is much less sparse.\n",
        "\n",
        "We're going to do that by decomposing my original matrix X into 3:\n",
        "* $U$ == left singular matrix, representing the relationship between users and latent factors\n",
        "* $S$ == diagonal matrix describing the strength of each latent factor\n",
        "* $V$ == right singular matrix, indicating the similarity between items and latent factors. \n",
        "\n",
        "![alt text](https://cdn-images-1.medium.com/max/2000/1*haUDjEiQmG0RapR0SHos6Q.png =500x120)\n",
        "\n",
        "\n",
        "\n",
        "\n",
        "r is the number of factors that are in my decompositions.\n",
        "\n",
        "\n",
        "\n",
        "### What are latent factors?\n",
        "Latent factors describe a property or concept that a user or an item have. \n",
        "For instance, for music, latent factor can refer to the genre that the music belongs to. SVD decreases the dimension of the utility matrix by extracting its latent factors. Essentially, we map each user and each item into a latent space with dimension r. Therefore, it helps us better understand the relationship between users and items as they become directly comparable. The below figure illustrates this idea.\n",
        "\n",
        "\n"
      ]
    },
    {
      "metadata": {
        "id": "9Zpoz98F81UV",
        "colab_type": "text"
      },
      "cell_type": "markdown",
      "source": [
        "## Hands-on"
      ]
    },
    {
      "metadata": {
        "id": "YUMd8nTW-sjD",
        "colab_type": "text"
      },
      "cell_type": "markdown",
      "source": [
        "### 1. Get additional packages\n",
        " In Jupyter notebooks and colab, we can install additional packages"
      ]
    },
    {
      "metadata": {
        "id": "-IMXMBgI9GB6",
        "colab_type": "code",
        "colab": {}
      },
      "cell_type": "code",
      "source": [
        "!pip uninstall -y scipy\n",
        "!pip install scipy==1.0.0\n",
        "!pip install surprise"
      ],
      "execution_count": 0,
      "outputs": []
    },
    {
      "metadata": {
        "id": "Y3-_67QY9OoU",
        "colab_type": "text"
      },
      "cell_type": "markdown",
      "source": [
        "**Note:** After installing, please restart the runtime (Runtime --> Restart runtime)\n",
        "\n",
        "\n",
        "### 2. Import packages needed throughout the notebook"
      ]
    },
    {
      "metadata": {
        "id": "YLHChfxa9eWA",
        "colab_type": "code",
        "colab": {}
      },
      "cell_type": "code",
      "source": [
        "from surprise import Dataset, SVD\n",
        "from surprise.model_selection import cross_validate, split"
      ],
      "execution_count": 0,
      "outputs": []
    },
    {
      "metadata": {
        "id": "XHKSiVyO-wvq",
        "colab_type": "text"
      },
      "cell_type": "markdown",
      "source": [
        "### 3. Get the data\n",
        "\n",
        "\n",
        "The `surprise` package has support for downloading movielens dataset, and we're going to use it."
      ]
    },
    {
      "metadata": {
        "id": "pvVqGHn5-5MQ",
        "colab_type": "code",
        "colab": {}
      },
      "cell_type": "code",
      "source": [
        "# Load the movielens-100k dataset (download it if needed).\n",
        "data = Dataset.load_builtin('ml-100k')"
      ],
      "execution_count": 0,
      "outputs": []
    },
    {
      "metadata": {
        "id": "d3ozFWucHhXc",
        "colab_type": "text"
      },
      "cell_type": "markdown",
      "source": [
        "### 4. Plug-in SVD"
      ]
    },
    {
      "metadata": {
        "id": "jX40Q_oh_UNE",
        "colab_type": "code",
        "colab": {}
      },
      "cell_type": "code",
      "source": [
        "# Use the famous SVD algorithm.\n",
        "algo = SVD()\n",
        "\n",
        "# Run 5-fold cross-validation and print results.\n",
        "cross_validate(algo, data, measures=['RMSE', 'MAE'], cv=5, verbose=True)"
      ],
      "execution_count": 0,
      "outputs": []
    },
    {
      "metadata": {
        "id": "bfhR7pdTWFmy",
        "colab_type": "text"
      },
      "cell_type": "markdown",
      "source": [
        "## Benchmarks\n",
        "\n",
        "Surprise already has implemented multiple models, they can be found here: http://surprise.readthedocs.io/en/stable/prediction_algorithms_package.html\n",
        "\n",
        "Also a benchmark of them can be found: http://surpriselib.com\n",
        "\n",
        "Try out a couple of them, trying to identify which performs the best on our dataset."
      ]
    },
    {
      "metadata": {
        "id": "Kx7Xav0PWejb",
        "colab_type": "text"
      },
      "cell_type": "markdown",
      "source": [
        "## Extra step:\n",
        "\n",
        "1. Variate the cross-validation class used, algorithms or their parameters in order to obtain a smaller error.\n",
        "2. Test these with a different dataset (e.g. jester) and compare results of the output of models.\n",
        "\n"
      ]
    }
  ]
}