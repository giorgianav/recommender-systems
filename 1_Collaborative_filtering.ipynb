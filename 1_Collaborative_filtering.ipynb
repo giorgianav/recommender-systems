{
  "nbformat": 4,
  "nbformat_minor": 0,
  "metadata": {
    "colab": {
      "name": "[RS] Collaborative filtering.ipynb",
      "version": "0.3.2",
      "provenance": [],
      "private_outputs": true,
      "collapsed_sections": []
    },
    "kernelspec": {
      "name": "python3",
      "display_name": "Python 3"
    },
    "accelerator": "GPU"
  },
  "cells": [
    {
      "cell_type": "markdown",
      "metadata": {
        "id": "view-in-github",
        "colab_type": "text"
      },
      "source": [
        "[View in Colaboratory](https://colab.research.google.com/github/ruxandraburtica/recommender-systems/blob/master/1_Collaborative_filtering.ipynb)"
      ]
    },
    {
      "metadata": {
        "id": "xzRV3OVyp_G9",
        "colab_type": "text"
      },
      "cell_type": "markdown",
      "source": [
        "## Install additional packages"
      ]
    },
    {
      "metadata": {
        "id": "OuYceehDp1Sy",
        "colab_type": "code",
        "colab": {}
      },
      "cell_type": "code",
      "source": [
        "!pip uninstall -y scipy\n",
        "!pip install scipy==1.0.0\n",
        "!pip install surprise"
      ],
      "execution_count": 0,
      "outputs": []
    },
    {
      "metadata": {
        "id": "AQsbKQlF1m6j",
        "colab_type": "text"
      },
      "cell_type": "markdown",
      "source": [
        "## Imports"
      ]
    },
    {
      "metadata": {
        "id": "IaBVF_WMp5xt",
        "colab_type": "code",
        "colab": {}
      },
      "cell_type": "code",
      "source": [
        "import requests\n",
        "import zipfile\n",
        "from io import BytesIO\n",
        "\n",
        "from surprise import SVD, Dataset, Reader, evaluate\n",
        "from surprise.model_selection import cross_validate"
      ],
      "execution_count": 0,
      "outputs": []
    },
    {
      "metadata": {
        "id": "um7QuD-YANEQ",
        "colab_type": "text"
      },
      "cell_type": "markdown",
      "source": [
        "## Get the data\n",
        "\n",
        "The `surprise` package has support for downloading movielens dataset, but we're going to download data ourselves, given that with your projects, probably data will not be available within `surprise`.\n",
        "\n",
        "We are going to use the data in the `u.data` file that contains all the user-item ratings. \n",
        "\n",
        "In the u.data file each line represents a rating from a user to an item and the time when the rating happened. \n",
        "\n",
        "The format of each line is:\n",
        "`userID itemID rating timestamp`, separated by tabs\n",
        "\n",
        "In order to read the data, we're creating a Reader and define its format. In this case each line is divided as user item rating timestamp and is seperated by a tab \\t. After we define the format we load our data in a Dataset object:"
      ]
    },
    {
      "metadata": {
        "id": "Lv0ndt5b1q-N",
        "colab_type": "code",
        "colab": {}
      },
      "cell_type": "code",
      "source": [
        "# Download archive and extract its contents.\n",
        "ml_100k_url = 'http://files.grouplens.org/datasets/movielens/ml-100k.zip'\n",
        "r = requests.get(ml_100k_url, stream=True)\n",
        "z = zipfile.ZipFile(BytesIO(r.content))\n",
        "z.extractall()\n",
        "\n",
        "# Define the format\n",
        "reader = Reader(line_format='user item rating timestamp', sep='\\t')\n",
        "\n",
        "# Load the data from the file using the reader format\n",
        "data = Dataset.load_from_file('./ml-100k/u.data', reader=reader)\n",
        "\n",
        "# # Load the movielens-100k dataset (download it if needed).\n",
        "# data = Dataset.load_builtin('ml-100k')"
      ],
      "execution_count": 0,
      "outputs": []
    },
    {
      "metadata": {
        "id": "wbh0iWf6gd19",
        "colab_type": "text"
      },
      "cell_type": "markdown",
      "source": [
        "#### Split data\n",
        "\n",
        "We're going to use cross-validation, splitting the data in 5 folds right from the beginning.\n",
        "\n",
        "We will then train our model 5 times, each on 4 different folds, testing results on the 5th. Data folding is done using the split function as below:"
      ]
    },
    {
      "metadata": {
        "id": "OcY2bdejSJpZ",
        "colab_type": "code",
        "colab": {}
      },
      "cell_type": "code",
      "source": [
        "# Split data into 5 folds\n",
        "data.split(n_folds=5)"
      ],
      "execution_count": 0,
      "outputs": []
    },
    {
      "metadata": {
        "id": "ZYpxt1qUuWh0",
        "colab_type": "text"
      },
      "cell_type": "markdown",
      "source": [
        "### Training\n",
        "\n",
        "Our model will try to optimize predictions, in order to match as closely as possible the actual results.\n",
        "\n",
        "As we're trying to predict the rating of a certain user-movie combination, we will compare that prediction to the actual prediction. The difference between the actual and the predicted rating is measured using classical error measurements such as Root mean squared error (RMSE) and Mean absolute error (MAE):\n",
        "\n",
        "\n",
        "$$RMSE = \\sqrt{\\sum_{t=1}^{T}  {(\\hat{y_t}-y_t)}^2 \\over n}$$\n",
        "\n",
        "$$MAE = {\\sum_{t=1}^{T}  (\\hat{y_t}-y_t) \\over n}$$\n",
        "\n",
        "We're going to use SVD first:\n",
        "https://medium.com/data-science-group-iitr/singular-value-decomposition-elucidated-e97005fb82fa"
      ]
    },
    {
      "metadata": {
        "id": "hLN_8d4tVE9D",
        "colab_type": "code",
        "colab": {}
      },
      "cell_type": "code",
      "source": [
        "algo = SVD()\n",
        "evaluate(algo, data, measures=['RMSE', 'MAE'])"
      ],
      "execution_count": 0,
      "outputs": []
    },
    {
      "metadata": {
        "id": "arhXcghXIgAS",
        "colab_type": "code",
        "colab": {}
      },
      "cell_type": "code",
      "source": [
        "# Retrieve the trainset.\n",
        "trainset = data.build_full_trainset()\n",
        "algo.train(trainset)"
      ],
      "execution_count": 0,
      "outputs": []
    },
    {
      "metadata": {
        "id": "37lfoORL4AB6",
        "colab_type": "code",
        "colab": {}
      },
      "cell_type": "code",
      "source": [
        "# Predict a certain item\n",
        "userid = str(196)\n",
        "itemid = str(302)\n",
        "actual_rating = 4\n",
        "print(algo.predict(userid, itemid, actual_rating))"
      ],
      "execution_count": 0,
      "outputs": []
    },
    {
      "metadata": {
        "id": "JZyPoscjARrs",
        "colab_type": "code",
        "colab": {}
      },
      "cell_type": "code",
      "source": [
        ""
      ],
      "execution_count": 0,
      "outputs": []
    }
  ]
}