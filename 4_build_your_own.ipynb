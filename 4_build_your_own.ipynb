{
  "nbformat": 4,
  "nbformat_minor": 0,
  "metadata": {
    "colab": {
      "name": "4_build_your_own.ipynb",
      "version": "0.3.2",
      "provenance": [],
      "private_outputs": true,
      "collapsed_sections": []
    },
    "kernelspec": {
      "name": "python3",
      "display_name": "Python 3"
    },
    "accelerator": "GPU"
  },
  "cells": [
    {
      "cell_type": "markdown",
      "metadata": {
        "id": "view-in-github",
        "colab_type": "text"
      },
      "source": [
        "[View in Colaboratory](https://colab.research.google.com/github/ruxandraburtica/recommender-systems/blob/master/4_build_your_own.ipynb)"
      ]
    },
    {
      "metadata": {
        "id": "4amzxC539k88",
        "colab_type": "text"
      },
      "cell_type": "markdown",
      "source": [
        "\n",
        "# 4. Building your own recommender system\n",
        "\n",
        "\n",
        "We're going to build a custom recommender system, following the steps below:\n",
        "\n",
        "http://surprise.readthedocs.io/en/stable/building_custom_algo.html#\n"
      ]
    },
    {
      "metadata": {
        "id": "lJO6_sqi0_A1",
        "colab_type": "code",
        "colab": {}
      },
      "cell_type": "code",
      "source": [
        "!pip uninstall -y scipy\n",
        "!pip install scipy==1.0.0\n",
        "!pip install surprise"
      ],
      "execution_count": 0,
      "outputs": []
    },
    {
      "metadata": {
        "id": "xiEFN3lf3H7o",
        "colab_type": "text"
      },
      "cell_type": "markdown",
      "source": [
        "## Imports"
      ]
    },
    {
      "metadata": {
        "id": "tyTT7GVG3F2y",
        "colab_type": "code",
        "colab": {}
      },
      "cell_type": "code",
      "source": [
        "import numpy as np\n",
        "from surprise import AlgoBase, Dataset\n",
        "from surprise.model_selection import cross_validate"
      ],
      "execution_count": 0,
      "outputs": []
    },
    {
      "metadata": {
        "id": "N-0qY0OD3Rs2",
        "colab_type": "text"
      },
      "cell_type": "markdown",
      "source": [
        "## Define your own algorithm"
      ]
    },
    {
      "metadata": {
        "id": "BpCqNeUdkLg2",
        "colab_type": "code",
        "colab": {}
      },
      "cell_type": "code",
      "source": [
        "class MeanAlgorithm(AlgoBase):\n",
        "\n",
        "    def __init__(self):\n",
        "\n",
        "        # Always call base method before doing anything.\n",
        "        AlgoBase.__init__(self)\n",
        "\n",
        "    def fit(self, trainset):\n",
        "\n",
        "        # Here again: call base method before doing anything.\n",
        "        AlgoBase.fit(self, trainset)\n",
        "\n",
        "        # Compute the average rating. We might as well use the\n",
        "        # trainset.global_mean attribute ;)\n",
        "        self.the_mean = np.mean([r for (_, _, r) in\n",
        "                                 self.trainset.all_ratings()])\n",
        "\n",
        "        return self\n",
        "\n",
        "    def estimate(self, u, i):\n",
        "\n",
        "        return self.the_mean"
      ],
      "execution_count": 0,
      "outputs": []
    },
    {
      "metadata": {
        "id": "bW_grDvH3WXe",
        "colab_type": "text"
      },
      "cell_type": "markdown",
      "source": [
        "## Compute score"
      ]
    },
    {
      "metadata": {
        "id": "obMzsUgi022F",
        "colab_type": "code",
        "colab": {}
      },
      "cell_type": "code",
      "source": [
        "data = Dataset.load_builtin('ml-100k')\n",
        "algo = MeanAlgorithm()\n",
        "\n",
        "cross_validate(algo, data, verbose=True)"
      ],
      "execution_count": 0,
      "outputs": []
    },
    {
      "metadata": {
        "id": "H688ZlxX3CMi",
        "colab_type": "code",
        "colab": {}
      },
      "cell_type": "code",
      "source": [
        ""
      ],
      "execution_count": 0,
      "outputs": []
    }
  ]
}